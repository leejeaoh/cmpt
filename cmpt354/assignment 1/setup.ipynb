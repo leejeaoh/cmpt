{
 "cells": [
  {
   "cell_type": "markdown",
   "id": "8370be09",
   "metadata": {},
   "source": [
    "# Environment Setup"
   ]
  },
  {
   "attachments": {},
   "cell_type": "markdown",
   "id": "879c567c",
   "metadata": {},
   "source": [
    "*You need jupyter, SQLite, and radb for doing this assignment. <font color='red'>If you have any question, please ask on Piazza. </font>*"
   ]
  },
  {
   "attachments": {},
   "cell_type": "markdown",
   "id": "5a5b2591",
   "metadata": {},
   "source": [
    "###  Install Jupyter Notebook"
   ]
  },
  {
   "attachments": {},
   "cell_type": "markdown",
   "id": "a35d1f2f",
   "metadata": {},
   "source": [
    "[Jupyter](http://jupyter.org/) is an open-source web application that allows you to create and share documents that contain live code, equations, visualizations and narrative text.\n",
    "Please install it using Anaconda.\n",
    " 1. Download & install Anaconda for Python3 [here](https://www.anaconda.com/download/)\n",
    " 2. Open a terminal and type `jupyter notebook` to confirm that the installation works\n",
    " 3. Alternatively, you may use [VS code](https://code.visualstudio.com/docs/datascience/jupyter-notebooks) or other IDEs to edit your Notebook. For this homework, you don't need to run any code inside the notebook (which means you may even ignore errors like `Jupyter cannot be started`)."
   ]
  },
  {
   "attachments": {},
   "cell_type": "markdown",
   "id": "57f4559b",
   "metadata": {},
   "source": [
    "### Install SQLite\n",
    "\n",
    "If you are using Mac OS X or Linux, SQLite should be pre-installed. Open a terminal and type `sqlite3`. To exit, type `.exit`\n",
    "\n",
    "If you are using Windows, please do the followings:\n",
    "\n",
    " - Step 1 − Go to SQLite [download page](https://www.sqlite.org/download.html), and download precompiled binaries from Windows section.\n",
    "\n",
    " - Step 2 − Download sqlite-shell-win32-*.zip and sqlite-dll-win32-*.zip zipped files.\n",
    "\n",
    " - Step 3 − Create a folder C:\\>sqlite and unzip above two zipped files in this folder, which will give you sqlite3.def, sqlite3.dll and sqlite3.exe files.\n",
    "\n",
    " - Step 4 − Add C:\\>sqlite in your PATH environment variable and finally go to the command prompt and issue `sqlite3`.  To exit, type `.exit`\n"
   ]
  },
  {
   "attachments": {},
   "cell_type": "markdown",
   "id": "97bb2998",
   "metadata": {},
   "source": [
    "### Setup  SQLite database for radb\n",
    "\n",
    "radb is a relational algebra interpreter over relational databases.\n",
    "\n",
    "To set it up, <b>open a terminal</b> and:\n",
    "\n",
    "1. Run the following command to install radb.\n",
    "\n",
    "       pip install radb\n",
    "\n",
    "2. Run the following command. Make sure your terminal is in the directory `/ex1` (or your custom directory where the file `beers.ra` locates). It will create a SQLite database file named `beers.db` in the same directory and load our sample database into  `beers` in your SQLite.\n",
    "   \n",
    "       radb -i beers.ra beers.db\n",
    "   \n",
    "3. Then you should be able to run RA at `ra>` propmt after running the command below:\n",
    "\n",
    "       radb beers.db\n",
    "\n",
    "4. Try the test commands (list the relations in the sample database, try some relational algebra queries, and quit)\n",
    "```\n",
    "        \\list;\n",
    "        \\select_{name like 'B%'} Beer;\n",
    "        \\quit;\n",
    "```"
   ]
  }
 ],
 "metadata": {
  "kernelspec": {
   "display_name": "base",
   "language": "python",
   "name": "python3"
  },
  "language_info": {
   "codemirror_mode": {
    "name": "ipython",
    "version": 3
   },
   "file_extension": ".py",
   "mimetype": "text/x-python",
   "name": "python",
   "nbconvert_exporter": "python",
   "pygments_lexer": "ipython3",
   "version": "3.6.10"
  },
  "vscode": {
   "interpreter": {
    "hash": "e136ea9cfc36fa71f53ffb5bbf2634476ec58fd15da8fb9741ea7f88d8d39146"
   }
  }
 },
 "nbformat": 4,
 "nbformat_minor": 5
}
