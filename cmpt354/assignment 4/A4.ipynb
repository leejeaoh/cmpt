{
 "cells": [
  {
   "attachments": {},
   "cell_type": "markdown",
   "metadata": {},
   "source": [
    "## Assignment 4\n",
    "\n",
    "*100 points (8% of course grade)*</br>\n",
    "*Assigned: Thu, Jun 27th*</br>\n",
    "**Due: Mon, Jul 8th, 23:59**\n",
    "\n",
    "This homework covers mongodb queries, and you may need to spend some time in setting up your MongoDB (will come back to Postgres in A5!). Some programming details are not covered in the lectures, so you will need to read the documentations and tutorials yourself. If you wait until the last minute, you might be overwhelmed.\n",
    "\n",
    "You must turn in the required files electronically. Please follow the submission instructions at the end of this notebook."
   ]
  },
  {
   "attachments": {},
   "cell_type": "markdown",
   "metadata": {},
   "source": [
    "### Problem 1 \n",
    "Consider the information about the US congress stored as JSON documents in a MongoDB database. To start the MongoDB database server and construct this database named congress, follow the instructions in [MongoDB Tips](https://docs.google.com/document/d/1AaFotV4RMEnQTWAAqztMN5lsvsINPzCA6n7KB9GmZsE/edit?usp=sharing), and then use the following commands:\n",
    "\n",
    "```bash\n",
    "(enter your A4/congress folder)\n",
    "mongorestore --gzip --archive=congress/mongodb-dump.tgz\n",
    "```\n",
    "The database contains two types of documents inside two collections, people and committees. To see these documents, use the following commands (warning: the entire database may be too long to print on your terminal):\n",
    "```bash\n",
    "mongosh congress --quiet --eval 'printjson(db.people.find().toArray())'\n",
    "mongosh congress --quiet --eval 'printjson(db.committees.find().toArray())'\n",
    "```\n",
    "The structures of these documents are self-explanatory. The database has two collections.\n",
    "\n",
    "- Each person in the `people` collection stores information about a legislator, including the roles they has served in the Congress. A role with type `rep` indicates a Representative (member of the House), while a role with type `sen` indicates a Senator (member of the Senate). A role is current if its `current` attribute equals 1.\n",
    "- Each committee in the `committees` collection stores information about a committee. It has a list of members, whose ids reference those of people; `role` specifies the role of the member in the committee (e.g., chair or ranking member). Oftentimes a committee can have subcommittees. Each subcommittee element has its own list of members, which should be a subset of the committee members. A legislator can serve on multiple committees, and even multiple subcommittees under the same committee. \n",
    "\n",
    "Note that the documents are identified by their `_id` attribute values, which are person ids and committee codes, respectively.\n"
   ]
  },
  {
   "attachments": {},
   "cell_type": "markdown",
   "metadata": {},
   "source": [
    "\n",
    "Write MongoDB queries (in MongoDB shell syntax) to answer the following questions. Unless otherwise noted, please make sure that your answer appears as an array. Your query should have the form `printjson(db.collection.method(...).toArray())`, where collection is one of people and committees, and method is one of `find` and `aggregate`. For each question below, say (a), write your MongoDB query in the cell below the question. You can run your query directly in mongodb shell after you enter the interactive shell by running `mongosh` in your command line.\n",
    "You may also run your query as follows by saving your query in a separate file:\n",
    "```bash\n",
    "mongosh congress --quiet -f a.js\n",
    "```\n",
    "\n",
    "See [MongoDB Tips](https://docs.google.com/document/d/1AaFotV4RMEnQTWAAqztMN5lsvsINPzCA6n7KB9GmZsE/edit?usp=sharing) for additional tips for MongoDB. The online autotester is available at https://ratest.cs.sfu.ca/mongo_test\n"
   ]
  },
  {
   "attachments": {},
   "cell_type": "markdown",
   "metadata": {},
   "source": [
    "#### a. (10 points) Find legislators with the exact last name of “Smith”. Simply print the entire person documents. \n",
    "You can use attr:/pattern/ to match the value of attr against a regular expression pattern. In particular, `/ XYZ$/` (note the space before XYZ) ensures that the string ends with a space followed by “XYZ”; `\"$\"` in the pattern matches the end of the string.\n"
   ]
  },
  {
   "cell_type": "code",
   "execution_count": null,
   "metadata": {
    "vscode": {
     "languageId": "javascript"
    }
   },
   "outputs": [],
   "source": [
    "/* input your answer in this cell: */\n",
    "printjson(db.people.find({name: {$regex: /\\S+ Smith/}}).toArray())"
   ]
  },
  {
   "attachments": {},
   "cell_type": "markdown",
   "metadata": {},
   "source": [
    "#### b. [12 points] Find who serves the role of \"Ranking Member\" for the House subcommittee on \"Energy and Mineral Resources\" (under House Committee HSII, \"House Committee on Natural Resources\"). Simply print the entire person document.\n"
   ]
  },
  {
   "cell_type": "code",
   "execution_count": null,
   "metadata": {
    "vscode": {
     "languageId": "javascript"
    }
   },
   "outputs": [],
   "source": [
    "printjson(db.committees.aggregate([\n",
    "    { $match: { _id: \"HSII\" } },\n",
    "    { $unwind: \"$subcommittees\" },\n",
    "    { $match: { \"subcommittees.displayname\": \"Energy and Mineral Resources\" } },\n",
    "    { $unwind: \"$subcommittees.members\" },\n",
    "    { $match: { \"subcommittees.members.role\": \"Ranking Member\" } },\n",
    "    { \n",
    "        $lookup: {\n",
    "            from: \"people\",\n",
    "            localField: \"subcommittees.members.id\",\n",
    "            foreignField: \"_id\",\n",
    "            as: \"correctPerson\"\n",
    "        }\n",
    "    },\n",
    "    { $unwind: \"$correctPerson\" },\n",
    "    { $replaceRoot: { newRoot: \"$correctPerson\" } }\n",
    "]).toArray());"
   ]
  },
  {
   "attachments": {},
   "cell_type": "markdown",
   "metadata": {},
   "source": [
    "#### c. [12 points] List all current legislators born after the first version of Microsoft SQL Server released (April 24, 1989) but before the first version of Postgres released (July 8, 1996). Format each of them simply as {\"name\" : \"...\", \"birthday\": ...}. Order them by the name attribute. \n",
    "\n",
    "You can use `attr: { $gt: ISODate(\"2000-01-01\") }` to test if the value of attr is later than the date 2000-01-01, or `attr: { $lt: ISODate(\"2000-01-01\") }` to test if the value of attr is before the date 2000-01-01."
   ]
  },
  {
   "cell_type": "code",
   "execution_count": null,
   "metadata": {
    "vscode": {
     "languageId": "javascript"
    }
   },
   "outputs": [],
   "source": [
    "/* input your answer in this cell: */\n",
    "printjson(db.people.aggregate([\n",
    "    {\n",
    "        $match: {\n",
    "            birthday: {\n",
    "                $gt: ISODate('1989-04-24'),\n",
    "                $lt: ISODate('1996-07-08')\n",
    "            }\n",
    "        }\n",
    "    },\n",
    "    {\n",
    "        $sort: { name: 1 }\n",
    "    },\n",
    "    {\n",
    "        $project: { name: 1, birthday: 1, _id: 0 }\n",
    "    }\n",
    "]).toArray());\n"
   ]
  },
  {
   "attachments": {},
   "cell_type": "markdown",
   "metadata": {},
   "source": [
    "#### d. [12 points] List all current female Democratic legislators. Format each of them as { \"name\": \"…\", \"age\": …, \"state\": \"…\", \"type\": \"sen_or_rep\" }, where age is an approximation obtained by subtracting their birth year from 2024. Order them by the age attribute (descending), with ties broken by name (ascending).\n",
    "\n",
    "You can use `$year` to extract the year component from a date and $subtract to perform subtraction.\n"
   ]
  },
  {
   "cell_type": "code",
   "execution_count": null,
   "metadata": {
    "vscode": {
     "languageId": "javascript"
    }
   },
   "outputs": [],
   "source": [
    "/* input your answer in this cell: */\n",
    "printjson(\n",
    "    db.people.aggregate([\n",
    "        { $match: { gender: \"F\" } },\n",
    "        { $unwind: \"$roles\" },\n",
    "        { $match: { \"roles.current\": 1, \"roles.party\": \"Democrat\" } },\n",
    "        { \n",
    "            $project: {\n",
    "                name: 1,\n",
    "                age: { $subtract: [2024, { $year: \"$birthday\" }] },\n",
    "                state: \"$roles.state\",\n",
    "                type: \"$roles.type\",\n",
    "                _id: 0\n",
    "            }\n",
    "        },\n",
    "        { $sort: { age: -1, name: 1 } }\n",
    "    ]).toArray()\n",
    ");\n",
    "\n"
   ]
  },
  {
   "attachments": {},
   "cell_type": "markdown",
   "metadata": {},
   "source": [
    "#### e. [12 points] List the name, district, and party of each current Representative of WA. Format each of them in the form { \"name\": \"…\", \"district\": …, \"party\": \"…\" } and sort them according to the district.\n"
   ]
  },
  {
   "cell_type": "code",
   "execution_count": null,
   "metadata": {
    "vscode": {
     "languageId": "javascript"
    }
   },
   "outputs": [],
   "source": [
    "/* input your answer in this cell: */\n",
    "printjson(\n",
    "    db.people.aggregate([\n",
    "        { $unwind: \"$roles\" },\n",
    "        { $match: { \"roles.state\": \"WA\", \"roles.current\": 1, \"roles.type\": \"rep\" } },\n",
    "        { $project: { name: 1, district: \"$roles.district\", party: \"$roles.party\", _id: 0 } },\n",
    "        { $sort: { district: 1 } }\n",
    "    ]).toArray()\n",
    ");"
   ]
  },
  {
   "attachments": {},
   "cell_type": "markdown",
   "metadata": {},
   "source": [
    "#### f. [12 points] List the names of current Senators who at some point earlier also served as Representatives. Format each of them as in the form { \"name\": \"…\" }. Order them by name (ascending).\n"
   ]
  },
  {
   "cell_type": "code",
   "execution_count": null,
   "metadata": {
    "vscode": {
     "languageId": "javascript"
    }
   },
   "outputs": [],
   "source": [
    "/* input your answer in this cell: */\n",
    "printjson(\n",
    "    db.people.aggregate([\n",
    "        { $match: { \"roles.type\": \"rep\" } },\n",
    "        { $unwind: \"$roles\" },\n",
    "        { $match: { \"roles.type\": \"sen\", \"roles.current\": 1 } },\n",
    "        { $group: { _id: \"$name\" } },\n",
    "        { $project: { name: \"$_id\", _id: 0 } },\n",
    "        { $sort: { name: 1 } }\n",
    "    ]).toArray()\n",
    ");\n",
    "\n"
   ]
  },
  {
   "attachments": {},
   "cell_type": "markdown",
   "metadata": {},
   "source": [
    "#### g. [15 points] List the names of legislators who are currently serving New York but NOT serving in any committee or subcommittee. Format each of them of an element of the form { \"name\": \"…\" }. Order them by name (ascending).\n"
   ]
  },
  {
   "cell_type": "code",
   "execution_count": null,
   "metadata": {
    "vscode": {
     "languageId": "javascript"
    }
   },
   "outputs": [],
   "source": [
    "/* input your answer in this cell: */\n",
    "printjson(\n",
    "    db.people.aggregate([\n",
    "        { $unwind: \"$roles\" },\n",
    "        { $match: { \"roles.state\": \"NY\", \"roles.current\": 1 } },\n",
    "        { \n",
    "            $lookup: {\n",
    "                from: \"committees\",\n",
    "                localField: \"_id\",\n",
    "                foreignField: \"members.id\",\n",
    "                as: \"served_in\"\n",
    "            }\n",
    "        },\n",
    "        { $match: { served_in: { $eq: [] } } },\n",
    "        { $sort: { name: 1 } },\n",
    "        { $project: { name: 1, _id: 0 } }\n",
    "    ]).toArray()\n",
    ");\n"
   ]
  },
  {
   "attachments": {},
   "cell_type": "markdown",
   "metadata": {},
   "source": [
    "#### h. [15 points] Find the number of current legislators for each state and territory (both are stored in the state attribute) by gender. Sort the states/territories by name (two-letter abbreviation) alphabetically. Your output should look like the following (whitespace is unimportant):\n",
    "[\n",
    "  { state: 'AK', M: 1, F: 2 },\n",
    "  { state: 'AL', M: 7, F: 2 },\n",
    "  { state: 'AR', M: 6, F: 0 },\n",
    "  { state: 'AS', M: 0, F: 1 },\n",
    "…]\n"
   ]
  },
  {
   "cell_type": "code",
   "execution_count": null,
   "metadata": {
    "vscode": {
     "languageId": "javascript"
    }
   },
   "outputs": [],
   "source": [
    "/* input your answer in this cell: */\n",
    "printjson(\n",
    "    db.people.aggregate([\n",
    "        { $unwind: \"$roles\" },\n",
    "        { $match: { \"roles.current\": 1 } },\n",
    "        { $group: { _id: { state: \"$roles.state\", gender: \"$gender\" }, count: { $sum: 1 } } },\n",
    "        { \n",
    "            $group: {\n",
    "                _id: \"$_id.state\",\n",
    "                M: {\n",
    "                    $sum: {\n",
    "                        $cond: [{ $eq: [\"$_id.gender\", \"M\"] }, \"$count\", 0]\n",
    "                    }\n",
    "                },\n",
    "                F: {\n",
    "                    $sum: {\n",
    "                        $cond: [{ $eq: [\"$_id.gender\", \"F\"] }, \"$count\", 0]\n",
    "                    }\n",
    "                }\n",
    "            }\n",
    "        },\n",
    "        { $sort: { _id: 1 } },\n",
    "        { $project: { state: \"$_id\", M: 1, F: 1, _id: 0 } }\n",
    "    ]).toArray()\n",
    ");\n"
   ]
  }
 ],
 "metadata": {
  "kernelspec": {
   "display_name": "Python 3",
   "language": "python",
   "name": "python3"
  },
  "language_info": {
   "codemirror_mode": {
    "name": "ipython",
    "version": 3
   },
   "file_extension": ".py",
   "mimetype": "text/x-python",
   "name": "python",
   "nbconvert_exporter": "python",
   "pygments_lexer": "ipython3",
   "version": "3.9.13"
  },
  "orig_nbformat": 4,
  "vscode": {
   "interpreter": {
    "hash": "40d3a090f54c6569ab1632332b64b2c03c39dcf918b08424e98f38b5ae0af88f"
   }
  }
 },
 "nbformat": 4,
 "nbformat_minor": 2
}
