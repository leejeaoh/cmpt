{
 "cells": [
  {
   "cell_type": "markdown",
   "id": "9d69ee8f",
   "metadata": {},
   "source": [
    "## Assignment 2\n",
    "\n",
    "*100 points (8% of course grade)*</br>\n",
    "*Assigned: Sun, May 26th*</br>\n",
    "**Due: Fri, Jun 7th, 23:59**\n",
    "\n",
    "This homework should be done in parts as soon as (< 0.5 week) relevant topics are covered in lectures. If you wait until the last minute, you might be overwhelmed.\n",
    "\n",
    "You must turn in the required files electronically, including this Notebook (A2.ipynb). Please follow the submission instructions for each problem carefully.\n",
    "\n",
    "In this assignment, you need to solve two problems. In Problem 1, you will write a few SQL queries to query the beers database. In Problem 2, you will answer two questions in database design theory."
   ]
  },
  {
   "cell_type": "markdown",
   "id": "8225f48e",
   "metadata": {},
   "source": [
    "## Setup your PostgreSQL"
   ]
  },
  {
   "cell_type": "markdown",
   "id": "a7cf987e",
   "metadata": {},
   "source": [
    "You will need this setup to create a database on your machine and to test your queries. Please follow our [setup instructions](https://canvas.sfu.ca/courses/84701/pages/postgresql-setup-instruction-for-assignment-2) on Canvas."
   ]
  },
  {
   "cell_type": "markdown",
   "id": "bcd509a5",
   "metadata": {},
   "source": [
    "### Problem 1: Query with SQL (64%)"
   ]
  },
  {
   "cell_type": "markdown",
   "id": "34057103",
   "metadata": {},
   "source": [
    "Consider again the beer drinker's database from Assignment 1 with following schema (key columns underlined).\n",
    "\n",
    "- drinker (<u>name</u>, address)\n",
    "- bar (<u>name</u>, address)\n",
    "- beer (<u>name</u>, brewer)\n",
    "- frequents (<u>drinker</u>, <u>bar</u>, times_a_week)\n",
    "- likes (<u>drinker</u>, <u>beer</u>)\n",
    "- serves (<u>bar</u>, <u>beer</u>, price)\n"
   ]
  },
  {
   "cell_type": "markdown",
   "id": "99e91a0a",
   "metadata": {},
   "source": [
    "#### **Preliminary**\n",
    "\n",
    "After you finish the PostgreSQL setup, you will be able to run the PostgreSQL's interpreter in your command line tools by running `psql beers -U [your username]` in your terminal or command line. You may also use pgAdmin instead of the command line tool.\n",
    "\n",
    "Same as assignment 1, you will need to type your SQL queries in the cells below."
   ]
  },
  {
   "cell_type": "markdown",
   "id": "4c23ffdc",
   "metadata": {},
   "source": [
    "\n",
    "Now your homework question is to write SQL queries to answer following questions. One major difference between SQL and relational algebra queries is the *bag semantics*: you may need to use DISTINCT in your SELECT statement or aggregate functions to deduplicate results or intermediate results.\n",
    "\n",
    "Please fill your answer in each cell (and **ONLY the query**) and **DO NOT add or remove** any cells to make the TAs' life easier in evaluating your queries. Questions (1)-(4) are worth 6 points each; (5)-(9) are worth 8 points each.\n"
   ]
  },
  {
   "cell_type": "markdown",
   "id": "b9cf0eec",
   "metadata": {},
   "source": [
    "#### 0. (example) Find names of all bars that Eve frequents."
   ]
  },
  {
   "cell_type": "code",
   "execution_count": null,
   "id": "87fea50d",
   "metadata": {
    "vscode": {
     "languageId": "sql"
    }
   },
   "outputs": [],
   "source": [
    "/* input your answer in this cell: */\n",
    "\n",
    "SELECT bar FROM frequents WHERE drinker = 'Eve';"
   ]
  },
  {
   "cell_type": "markdown",
   "id": "13b94ae5",
   "metadata": {},
   "source": [
    "#### 1. Find names of bars that serve either Amstel or Corona at price higher than \\\\$2."
   ]
  },
  {
   "cell_type": "code",
   "execution_count": null,
   "id": "2a2cbd61",
   "metadata": {
    "vscode": {
     "languageId": "sql"
    }
   },
   "outputs": [],
   "source": [
    "/* input your answer in this cell: */\n"
   ]
  },
  {
   "cell_type": "markdown",
   "id": "984d30ac",
   "metadata": {},
   "source": [
    "#### 2. Find the names of all drinkers that do not like Corona but frequent a bar that serves Corona."
   ]
  },
  {
   "cell_type": "code",
   "execution_count": null,
   "id": "99a55a43",
   "metadata": {
    "vscode": {
     "languageId": "sql"
    }
   },
   "outputs": [],
   "source": [
    "/* input your answer in this cell: */\n"
   ]
  },
  {
   "cell_type": "markdown",
   "id": "166dfe20",
   "metadata": {},
   "source": [
    "#### 3. Find the names of all bars that serve at least 5 beers"
   ]
  },
  {
   "cell_type": "code",
   "execution_count": null,
   "id": "cc2b311d",
   "metadata": {
    "vscode": {
     "languageId": "sql"
    }
   },
   "outputs": [],
   "source": [
    "/* input your answer in this cell: */\n"
   ]
  },
  {
   "cell_type": "markdown",
   "id": "848a6f34",
   "metadata": {},
   "source": [
    "#### 4. Find the pair of drinkers who frequent bars the same total number of times per week. Don't list (drinkerA, drinkerA). Only list pairs (drinkerA, drinkerB) where drinkerA < drinkerB  in the answer; don't list (drinkerB, drinkerA) again."
   ]
  },
  {
   "cell_type": "markdown",
   "id": "ab2f5639",
   "metadata": {},
   "source": [
    "/* input your answer in this cell: */"
   ]
  },
  {
   "cell_type": "markdown",
   "id": "8d663394",
   "metadata": {},
   "source": [
    "#### 5. Find names of all drinkers who frequent *only* those bars that serve *only* beers they like."
   ]
  },
  {
   "cell_type": "code",
   "execution_count": null,
   "id": "246ed095",
   "metadata": {
    "vscode": {
     "languageId": "sql"
    }
   },
   "outputs": [],
   "source": [
    "/* input your answer in this cell: */\n"
   ]
  },
  {
   "cell_type": "markdown",
   "id": "fc284754",
   "metadata": {},
   "source": [
    "#### 6. Find all (bar1, bar2) pairs where the set of beers served at bar1 is a proper subset of the those served at bar2; i.e., bar2 serves every beer that bar1 serves and plus some more."
   ]
  },
  {
   "cell_type": "code",
   "execution_count": null,
   "id": "a3d9f3a2",
   "metadata": {
    "vscode": {
     "languageId": "sql"
    }
   },
   "outputs": [],
   "source": [
    "/* input your answer in this cell: */\n"
   ]
  },
  {
   "cell_type": "markdown",
   "id": "66f45690",
   "metadata": {},
   "source": [
    "#### 7. Calculate some statistics for each bar: (1) total number of drinkers who frequent it, (2) average price of beers it serves, and (3) name of the drinker who frequents it the maximum number of times a week (the most regular customer!). i.e., your query should output total_num_drinker, avg_price, most_reg_drinker\n",
    "In case of ties in (3), rank the drinkers by the alphabetical order or their names. Sort the output by the number of drinkers (in descending order), in case of ties,\n",
    "- sort by bar in alphabetical order. You need to list every bar, even if it\n",
    "is not frequented by anyone\n",
    "- (show 0 as the total number of drinkers in this case and NULL as the most\n",
    "regular customer) or\n",
    "- serves no beers (show NULL as average price in this case)."
   ]
  },
  {
   "cell_type": "code",
   "execution_count": null,
   "id": "bff6c014",
   "metadata": {
    "vscode": {
     "languageId": "sql"
    }
   },
   "outputs": [],
   "source": [
    "/* input your answer in this cell: */\n"
   ]
  },
  {
   "cell_type": "markdown",
   "id": "50e53c2d",
   "metadata": {},
   "source": [
    "#### 8. Find, for each beer served in at least 2 bars that frequented by drinkers whose name starts with 'B', the difference of maximum and minimum (price gap) and *average price* of the beers in all serving bars, order by beer name. I.e., your query should output beer, price_gap, and avg_price"
   ]
  },
  {
   "cell_type": "code",
   "execution_count": null,
   "id": "13cbea36",
   "metadata": {
    "vscode": {
     "languageId": "sql"
    }
   },
   "outputs": [],
   "source": [
    "/* input your answer in this cell: */\n"
   ]
  },
  {
   "cell_type": "markdown",
   "id": "05987f7a",
   "metadata": {},
   "source": [
    "#### 9. Find, for each beer, its lowest serving price and the bar(s) serving it at this price. The output should be a list of (beer, price, bar) triples. If some beer B is not served anywhere, you should still output (B, NULL, NULL).\n"
   ]
  },
  {
   "cell_type": "code",
   "execution_count": null,
   "id": "b4fd6651",
   "metadata": {
    "vscode": {
     "languageId": "sql"
    }
   },
   "outputs": [],
   "source": [
    "/* input your answer in this cell: */\n"
   ]
  },
  {
   "cell_type": "markdown",
   "id": "755a0031",
   "metadata": {},
   "source": [
    "## Problem 2: Database design theory (36% = 16% + 20%)"
   ]
  },
  {
   "cell_type": "markdown",
   "id": "e49f33ff",
   "metadata": {},
   "source": [
    "#### 1. Consider a relation R with five attributes ABCDE. You are given the following dependencies: A -> D; DE -> C; CB -> A. \n",
    "1. For each FD $X \\rightarrow Y$, compute the closure $X^+$\n",
    "2. List all keys in R.\n",
    "3. Is R in 3NF? Explain.\n",
    "4. Is R in BCNF? Explain."
   ]
  },
  {
   "cell_type": "markdown",
   "id": "bebe7453",
   "metadata": {},
   "source": [
    "`Write your answers for 1,2,3,4 in this cell`\n",
    "\n",
    "1.\n",
    "\n",
    "2.\n",
    "\n",
    "3.\n",
    "\n",
    "4."
   ]
  },
  {
   "cell_type": "markdown",
   "id": "7898d4a1",
   "metadata": {},
   "source": [
    "#### 2. Consider the following simplified table storing information about Pals, jobs, and production structures in Palworld: R(pid, sid, pal, structure_name, work_speed, job_type, food_consumption) and a set of functional dependencies:\n",
    "* FD1: pid, sid -> work_speed\n",
    "* FD2: sid -> structure_name, job_type\n",
    "* FD3: pid -> pal, food_consumption\n",
    "* FD4: structure_name -> job_type\n",
    "\n",
    "`Decompose the schema into BCNF by (1) filling out the steps below, and (2) writing the names of the\n",
    "relations in the final solution. Note: You may not need all four steps in your decompositions.`"
   ]
  },
  {
   "cell_type": "markdown",
   "id": "6c196895",
   "metadata": {},
   "source": [
    "**Step 1**\n",
    "- Initial table: `R(pid, sid, pal, structure_name, work_speed, job_type, food_consumption)`\n",
    "- Violating FD $X \\rightarrow Y$:\n",
    "- Schema of new table-1:\n",
    "- Schema of new table-2:"
   ]
  },
  {
   "cell_type": "markdown",
   "id": "21e24d39",
   "metadata": {},
   "source": [
    "**Step 2**\n",
    "- Initial table: \n",
    "- Violating FD $X \\rightarrow Y$:\n",
    "- Schema of new table-1:\n",
    "- Schema of new table-2:"
   ]
  },
  {
   "cell_type": "markdown",
   "id": "6ad6a9b0",
   "metadata": {},
   "source": [
    "**Step 3**\n",
    "- Initial table: \n",
    "- Violating FD $X \\rightarrow Y$:\n",
    "- Schema of new table-1:\n",
    "- Schema of new table-2:"
   ]
  },
  {
   "cell_type": "markdown",
   "id": "bbd776b2",
   "metadata": {},
   "source": [
    "**Step 4**\n",
    "- Initial table: \n",
    "- Violating FD $X \\rightarrow Y$:\n",
    "- Schema of new table-1:\n",
    "- Schema of new table-2:"
   ]
  },
  {
   "cell_type": "markdown",
   "id": "00fe9d06",
   "metadata": {},
   "source": [
    "**Names of relations in the final solution:**\n"
   ]
  },
  {
   "cell_type": "markdown",
   "id": "e46cdbae",
   "metadata": {},
   "source": [
    "## Submission instruction\n",
    "\n",
    "1. For problem 1, answer the questions (1)-(9) in the Markdown cells\n",
    "\n",
    "2. For problem 2.1, answer questions 1,2,3,4 in the given cell.\n",
    "\n",
    "2. For problem 2.2, fill the steps you need after the `:` and write down the names of relations in the final solution\n",
    "\n",
    "3. Compress your A2.ipynb (this file) into A2.zip and submit on Canvas"
   ]
  }
 ],
 "metadata": {
  "kernelspec": {
   "display_name": "Python 3 (ipykernel)",
   "language": "python",
   "name": "python3"
  },
  "language_info": {
   "codemirror_mode": {
    "name": "ipython",
    "version": 3
   },
   "file_extension": ".py",
   "mimetype": "text/x-python",
   "name": "python",
   "nbconvert_exporter": "python",
   "pygments_lexer": "ipython3",
   "version": "3.8.10"
  },
  "vscode": {
   "interpreter": {
    "hash": "502d05b2c65fc31bf8a0f20fb9a06483287797d4acd857737c87d0fee02f7a46"
   }
  }
 },
 "nbformat": 4,
 "nbformat_minor": 5
}
